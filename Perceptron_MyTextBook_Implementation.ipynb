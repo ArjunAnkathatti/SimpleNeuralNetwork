{
 "cells": [
  {
   "cell_type": "code",
   "execution_count": 1,
   "metadata": {
    "collapsed": true
   },
   "outputs": [],
   "source": [
    "import numpy as np\n",
    "import matplotlib.pyplot as plt"
   ]
  },
  {
   "cell_type": "code",
   "execution_count": 7,
   "metadata": {},
   "outputs": [
    {
     "name": "stdout",
     "output_type": "stream",
     "text": [
      "X shape :  (4, 3)\n",
      "Y shape :  (4, 1)\n",
      "w shape :  (3, 4)\n"
     ]
    }
   ],
   "source": [
    "np.random.seed(9)\n",
    "X = np.array([[1,-1.992,-1.679],[1,-2.073,-1.888],[1,-0.8231,0.4556],[1,0.2458,0.3668]], dtype=float)\n",
    "Y = np.array([[1],[1],[0],[0]], dtype=float)\n",
    "print(\"X shape : \" , X.shape)\n",
    "print(\"Y shape : \" , Y.shape)\n",
    "w = np.random.random((3,4))\n",
    "print(\"w shape : \" , w.shape)"
   ]
  },
  {
   "cell_type": "code",
   "execution_count": 8,
   "metadata": {
    "collapsed": true
   },
   "outputs": [],
   "source": [
    "def sigmoid(x):\n",
    "    return 1/(1+np.exp(-x))"
   ]
  },
  {
   "cell_type": "code",
   "execution_count": 9,
   "metadata": {
    "collapsed": true
   },
   "outputs": [],
   "source": [
    "def sigmoidPrime(x):\n",
    "    return np.exp(-x)/((1+np.exp(-x))**2)"
   ]
  },
  {
   "cell_type": "code",
   "execution_count": 12,
   "metadata": {},
   "outputs": [
    {
     "name": "stdout",
     "output_type": "stream",
     "text": [
      "335\n"
     ]
    }
   ],
   "source": [
    "lr = 1\n",
    "E_avg = 1\n",
    "i = 0\n",
    "E_avg_array = np.array([])\n",
    "epochs = np.array([])\n",
    "while (E_avg > 0.001):\n",
    "    activation = np.dot(X,w)\n",
    "    output = sigmoid(activation)\n",
    "    \n",
    "    error = Y - output\n",
    "    local_gradient = error * sigmoidPrime(activation)\n",
    "    w_delta = X.T.dot(local_gradient) * lr\n",
    "    w = w + w_delta\n",
    "    \n",
    "    E = (error**2)/2\n",
    "    E_sum = E.sum()\n",
    "    E_avg = E_sum / 4\n",
    "    \n",
    "    i += 1\n",
    "    epochs = np.append(epochs,i)\n",
    "    E_avg_array = np.append(E_avg_array,E_avg)\n",
    "print(i)"
   ]
  },
  {
   "cell_type": "code",
   "execution_count": 13,
   "metadata": {},
   "outputs": [
    {
     "data": {
      "image/png": "[encoded data removed]",
      "text/plain": [
       "<matplotlib.figure.Figure at 0x111fba828>"
      ]
     },
     "metadata": {},
     "output_type": "display_data"
    }
   ],
   "source": [
    "plt.plot(epochs,E_avg_array)\n",
    "plt.show()"
   ]
  },
  {
   "cell_type": "code",
   "execution_count": null,
   "metadata": {
    "collapsed": true
   },
   "outputs": [],
   "source": []
  }
 ],
 "metadata": {
  "kernelspec": {
   "display_name": "Python 3",
   "language": "python",
   "name": "python3"
  },
  "language_info": {
   "codemirror_mode": {
    "name": "ipython",
    "version": 3
   },
   "file_extension": ".py",
   "mimetype": "text/x-python",
   "name": "python",
   "nbconvert_exporter": "python",
   "pygments_lexer": "ipython3",
   "version": "3.6.2"
  }
 },
 "nbformat": 4,
 "nbformat_minor": 2
}
