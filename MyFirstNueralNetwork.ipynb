{
 "cells": [
  {
   "cell_type": "code",
   "execution_count": 152,
   "metadata": {
    "collapsed": true
   },
   "outputs": [],
   "source": [
    "import numpy as np\n",
    "import matplotlib.pyplot as plt"
   ]
  },
  {
   "cell_type": "code",
   "execution_count": 190,
   "metadata": {
    "collapsed": true
   },
   "outputs": [],
   "source": [
    "# input matrix with i features and k rows\n",
    "# first column i.e x0(k) = 1 i.e the input for the bias is always 1\n",
    "# the last column of the input is the target output of the kth input\n",
    "sample = np.array([\n",
    "    [1,1,3],\n",
    "    [1,1,1],\n",
    "    [1,2,1],\n",
    "    [1,3,2],\n",
    "    [1,4,1],\n",
    "    [1,3,4],\n",
    "    [1,4,4],\n",
    "    [1,4,3],\n",
    "    [1,5,3],\n",
    "    [1,5,2]\n",
    "], np.int32)\n",
    "\n",
    "target = [1,1,1,1,1,0,0,0,0,0]\n",
    "weight = [0,0,0]\n",
    "# learning rate\n",
    "lr = 1"
   ]
  },
  {
   "cell_type": "code",
   "execution_count": 191,
   "metadata": {},
   "outputs": [],
   "source": [
    "# print(\"input vectors : \",sample)\n",
    "# print(\"weight vectors : \", weight)\n",
    "\n",
    "# summation function\n",
    "def predict(w0,x0,w1,x1,w2,x2):\n",
    "    activation = w0*x0 + w1*x1 + w2*x2\n",
    "    return 1.0 if activation >= 0.0 else 0.0\n",
    "\n",
    "def graph(formula, x_range):\n",
    "    for x in sample[:5]:\n",
    "        plt.plot(x[1],x[2],'ro')\n",
    "    for x in sample[5:]:\n",
    "        plt.plot(x[1],x[2],'bo')\n",
    "    a = np.array(x_range)\n",
    "    b = formula(a)\n",
    "    plt.plot(a,b)\n",
    "    plt.show()"
   ]
  },
  {
   "cell_type": "code",
   "execution_count": 194,
   "metadata": {},
   "outputs": [],
   "source": [
    "for i in range(60):\n",
    "    for x,t in zip(sample,target):\n",
    "        y = predict(weight[0],x[0],weight[1],x[1],weight[2],x[2])\n",
    "        e = t - y\n",
    "        while(e!=0):\n",
    "            weight = weight + lr*e*x\n",
    "            y = predict(weight[0],x[0],weight[1],x[1],weight[2],x[2])\n",
    "            e = t - y"
   ]
  },
  {
   "cell_type": "code",
   "execution_count": 196,
   "metadata": {},
   "outputs": [
    {
     "name": "stdout",
     "output_type": "stream",
     "text": [
      "[ 18.  -3.  -3.]\n"
     ]
    },
    {
     "data": {
      "image/png": "[encoded data removed]",
      "text/plain": [
       "<matplotlib.figure.Figure at 0x116ded438>"
      ]
     },
     "metadata": {},
     "output_type": "display_data"
    }
   ],
   "source": [
    "print(weight)\n",
    "graph(lambda x: (-1*(weight[1]*x + weight[0]))/weight[2], range(6))\n",
    "plt.close()"
   ]
  },
  {
   "cell_type": "code",
   "execution_count": null,
   "metadata": {
    "collapsed": true
   },
   "outputs": [],
   "source": []
  }
 ],
 "metadata": {
  "kernelspec": {
   "display_name": "Python 3",
   "language": "python",
   "name": "python3"
  },
  "language_info": {
   "codemirror_mode": {
    "name": "ipython",
    "version": 3
   },
   "file_extension": ".py",
   "mimetype": "text/x-python",
   "name": "python",
   "nbconvert_exporter": "python",
   "pygments_lexer": "ipython3",
   "version": "3.6.2"
  }
 },
 "nbformat": 4,
 "nbformat_minor": 2
}
