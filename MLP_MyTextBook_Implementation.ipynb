{
 "cells": [
  {
   "cell_type": "code",
   "execution_count": 67,
   "metadata": {
    "collapsed": true
   },
   "outputs": [],
   "source": [
    "import numpy as np\n",
    "import matplotlib.pyplot as plt"
   ]
  },
  {
   "cell_type": "code",
   "execution_count": 68,
   "metadata": {},
   "outputs": [
    {
     "name": "stdout",
     "output_type": "stream",
     "text": [
      "X shape :  (4, 2)\n",
      "Y shape :  (4, 1)\n",
      "w_input shape :  (2, 2)\n",
      "w_hidden shape :  (2, 1)\n",
      "b_h shape :  (1, 2)\n",
      "b_out shape :  (1, 1)\n"
     ]
    }
   ],
   "source": [
    "input_dimensions = 2\n",
    "hidden_neurons = 2\n",
    "output_neurons = 1\n",
    "\n",
    "np.random.seed(9)\n",
    "X = np.array([[0,0],[0,1],[1,0],[1,1]], dtype=float)\n",
    "Y = np.array([[1],[0],[0],[1]], dtype=float)\n",
    "print(\"X shape : \" , X.shape)\n",
    "print(\"Y shape : \" , Y.shape)\n",
    "w_input = np.random.random((input_dimensions,hidden_neurons))\n",
    "w_hidden = np.random.random((hidden_neurons,output_neurons))\n",
    "print(\"w_input shape : \" , w_input.shape)\n",
    "print(\"w_hidden shape : \" , w_hidden.shape)\n",
    "b_h = np.random.random((1,hidden_neurons))\n",
    "b_out = np.random.random((1,output_neurons))\n",
    "print(\"b_h shape : \", b_h.shape)\n",
    "print(\"b_out shape : \", b_out.shape)"
   ]
  },
  {
   "cell_type": "code",
   "execution_count": 69,
   "metadata": {
    "collapsed": true
   },
   "outputs": [],
   "source": [
    "def sigmoid(x):\n",
    "    return 1/(1+np.exp(-x))"
   ]
  },
  {
   "cell_type": "code",
   "execution_count": 70,
   "metadata": {
    "collapsed": true
   },
   "outputs": [],
   "source": [
    "def sigmoidPrime(x):\n",
    "    return np.exp(-x)/((1+np.exp(-x))**2)"
   ]
  },
  {
   "cell_type": "code",
   "execution_count": 71,
   "metadata": {},
   "outputs": [
    {
     "name": "stdout",
     "output_type": "stream",
     "text": [
      "32650\n"
     ]
    }
   ],
   "source": [
    "lr = 0.7\n",
    "E_avg = 1\n",
    "i = 0\n",
    "E_avg_array = np.array([])\n",
    "epochs = np.array([])\n",
    "while (E_avg > 0.001):\n",
    "    hidden_layer_activation = np.dot(X,w_input) #+ b_h\n",
    "    hidden_layer_output = sigmoid(hidden_layer_activation)\n",
    "    output_layer_activation = np.dot(hidden_layer_output,w_hidden) #+ b_out\n",
    "    output_layer_output = sigmoid(output_layer_activation)\n",
    "    \n",
    "    output_layer_error = Y - output_layer_output\n",
    "    output_layer_local_gradient = output_layer_error * sigmoidPrime(output_layer_activation)\n",
    "    w_hidden_delta = hidden_layer_output.T.dot(output_layer_local_gradient) * lr\n",
    "    \n",
    "    hidden_layer_error = output_layer_local_gradient.dot(w_hidden.T)\n",
    "    hidden_layer_local_gradient = sigmoidPrime(hidden_layer_activation) * hidden_layer_error\n",
    "    w_input_delta = X.T.dot(hidden_layer_local_gradient) * lr\n",
    "    \n",
    "    w_hidden = w_hidden + w_hidden_delta\n",
    "    # b_out = b_out + np.sum(output_layer_local_gradient, axis=0, keepdims=True) * lr\n",
    "    w_input = w_input + w_input_delta\n",
    "    # b_h = b_h + np.sum(hidden_layer_local_gradient, axis=0, keepdims=True) * lr\n",
    "    \n",
    "    E = (output_layer_error**2)/2\n",
    "    E_sum = E.sum()\n",
    "    E_avg = E_sum / len(X)\n",
    "    \n",
    "    i += 1\n",
    "    epochs = np.append(epochs,i)\n",
    "    E_avg_array = np.append(E_avg_array,E_avg)\n",
    "    #if (i == 90000):\n",
    "        #E_avg = 0.0001\n",
    "print(i)"
   ]
  },
  {
   "cell_type": "code",
   "execution_count": 72,
   "metadata": {},
   "outputs": [
    {
     "data": {
      "image/png": "[encoded data removed]",
      "text/plain": [
       "<matplotlib.figure.Figure at 0x117e3cb00>"
      ]
     },
     "metadata": {},
     "output_type": "display_data"
    }
   ],
   "source": [
    "plt.plot(epochs,E_avg_array)\n",
    "plt.show()"
   ]
  },
  {
   "cell_type": "code",
   "execution_count": 73,
   "metadata": {},
   "outputs": [
    {
     "name": "stdout",
     "output_type": "stream",
     "text": [
      "[[ 0.98122608]\n",
      " [ 0.04491159]\n",
      " [ 0.04491156]\n",
      " [ 0.93989227]]\n"
     ]
    }
   ],
   "source": [
    "hidden_layer_activation = np.dot(X,w_input)\n",
    "hidden_layer_output = sigmoid(hidden_layer_activation)\n",
    "output_layer_activation = np.dot(hidden_layer_output,w_hidden)\n",
    "output_layer_output = sigmoid(output_layer_activation)\n",
    "print(output_layer_output)"
   ]
  },
  {
   "cell_type": "code",
   "execution_count": null,
   "metadata": {
    "collapsed": true
   },
   "outputs": [],
   "source": []
  }
 ],
 "metadata": {
  "kernelspec": {
   "display_name": "Python 3",
   "language": "python",
   "name": "python3"
  },
  "language_info": {
   "codemirror_mode": {
    "name": "ipython",
    "version": 3
   },
   "file_extension": ".py",
   "mimetype": "text/x-python",
   "name": "python",
   "nbconvert_exporter": "python",
   "pygments_lexer": "ipython3",
   "version": "3.6.2"
  }
 },
 "nbformat": 4,
 "nbformat_minor": 2
}
