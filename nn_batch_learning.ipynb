{
 "cells": [
  {
   "cell_type": "code",
   "execution_count": 2,
   "metadata": {
    "collapsed": true
   },
   "outputs": [],
   "source": [
    "import numpy as np\n",
    "from numpy import genfromtxt"
   ]
  },
  {
   "cell_type": "code",
   "execution_count": 3,
   "metadata": {},
   "outputs": [
    {
     "name": "stdout",
     "output_type": "stream",
     "text": [
      "X (314, 2)\n",
      "Y (314, 1)\n"
     ]
    }
   ],
   "source": [
    "# input array\n",
    "#X = np.array([[1,0,1,0],[1,0,1,1],[0,1,0,1]])\n",
    "in_data_from_file = genfromtxt('cross_data.csv', delimiter=',', dtype=float)\n",
    "X = in_data_from_file[...,:2]\n",
    "Y = in_data_from_file[...,2:]\n",
    "\n",
    "# output\n",
    "#Y = np.array([[1],[1],[0]])\n",
    "\n",
    "print(\"X\", X.shape)\n",
    "print(\"Y\", Y.shape)"
   ]
  },
  {
   "cell_type": "code",
   "execution_count": 4,
   "metadata": {
    "collapsed": true
   },
   "outputs": [],
   "source": [
    "# sigmoid function\n",
    "def sigmoid(x):\n",
    "    return 1/(1 + np.exp(-x))\n",
    "\n",
    "# derivative of sigmoid function\n",
    "def derivatives_sigmoid(x):\n",
    "    return x*(1-x)"
   ]
  },
  {
   "cell_type": "code",
   "execution_count": 5,
   "metadata": {
    "collapsed": true
   },
   "outputs": [],
   "source": [
    "# variable initialization\n",
    "epoch=10000 # setting training iterations\n",
    "lr = 0.7 # setting learning rate\n",
    "inputlayer_neurons = X.shape[1] # number of feature in data set\n",
    "hiddenlayer_neurons = 3 # number of hidden layer neurons\n",
    "output_neurons = 1 # number of neurons at output layer"
   ]
  },
  {
   "cell_type": "code",
   "execution_count": 6,
   "metadata": {},
   "outputs": [
    {
     "name": "stdout",
     "output_type": "stream",
     "text": [
      "wh (2, 10)\n",
      "bh (1, 10)\n",
      "wout (10, 1)\n",
      "bout (1, 1)\n"
     ]
    }
   ],
   "source": [
    "# weight and bias information\n",
    "#wh = np.random.uniform(size=(inputlayer_neurons,hiddenlayer_neurons))\n",
    "wh = genfromtxt('w1.csv', delimiter=',', dtype=float).T\n",
    "#bh = np.random.uniform(size=(1,hiddenlayer_neurons))\n",
    "bh = np.array([genfromtxt('b1.csv', delimiter=',', dtype=float)])\n",
    "#wout = np.random.uniform(size=(hiddenlayer_neurons,output_neurons))\n",
    "wout = np.array([[0.0511],[0.1611],[0.0238],[-0.0267],[0.1089],[0.2381],[0.0784],[0.003],[0.1646],[-0.1779]])\n",
    "#bout = np.random.uniform(size=(1,output_neurons))\n",
    "bout = np.array([[genfromtxt('b2.csv', delimiter=',', dtype=float)]])\n",
    "\n",
    "print (\"wh\", wh.shape)\n",
    "print (\"bh\", bh.shape)\n",
    "print (\"wout\", wout.shape)\n",
    "print (\"bout\", bout.shape)"
   ]
  },
  {
   "cell_type": "code",
   "execution_count": null,
   "metadata": {
    "collapsed": true
   },
   "outputs": [],
   "source": [
    "Err_avg = 10\n",
    "i = 1\n",
    "while(Err_avg > 0.001):\n",
    "    #Forward Propogation\n",
    "    hidden_layer_input1 = np.dot(X,wh)\n",
    "    hidden_layer_input = hidden_layer_input1 + bh\n",
    "    hiddenlayer_activations = sigmoid(hidden_layer_input)\n",
    "    output_layer_input1 = np.dot(hiddenlayer_activations,wout)\n",
    "    output_layer_input = output_layer_input1 + bout\n",
    "    output = sigmoid(output_layer_input)\n",
    "    \n",
    "    #Backpropogation\n",
    "    E = Y - output\n",
    "    slope_output_layer = derivatives_sigmoid(output)\n",
    "    slope_hidden_layer = derivatives_sigmoid(hiddenlayer_activations)\n",
    "    d_output = E * slope_output_layer\n",
    "    Error_at_hidden_layer = d_output.dot(wout.T)\n",
    "    d_hiddenlayer = Error_at_hidden_layer * slope_hidden_layer\n",
    "    wout += hiddenlayer_activations.T.dot(d_output) * lr\n",
    "    bout += np.sum(d_output, axis=0, keepdims=True) * lr\n",
    "    wh += X.T.dot(d_hiddenlayer) * lr\n",
    "    bh += np.sum(d_hiddenlayer, axis=0, keepdims=True) * lr\n",
    "    \n",
    "    Err = (E*E)/2\n",
    "    Err_avg = Err.sum()/len(X)\n",
    "    print(i,Err_avg)\n",
    "    i += 1 "
   ]
  },
  {
   "cell_type": "code",
   "execution_count": null,
   "metadata": {
    "collapsed": true
   },
   "outputs": [],
   "source": []
  }
 ],
 "metadata": {
  "kernelspec": {
   "display_name": "Python 3",
   "language": "python",
   "name": "python3"
  },
  "language_info": {
   "codemirror_mode": {
    "name": "ipython",
    "version": 3
   },
   "file_extension": ".py",
   "mimetype": "text/x-python",
   "name": "python",
   "nbconvert_exporter": "python",
   "pygments_lexer": "ipython3",
   "version": "3.6.2"
  }
 },
 "nbformat": 4,
 "nbformat_minor": 2
}
