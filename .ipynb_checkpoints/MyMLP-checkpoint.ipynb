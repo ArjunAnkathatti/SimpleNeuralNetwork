{
 "cells": [
  {
   "cell_type": "code",
   "execution_count": 195,
   "metadata": {
    "collapsed": true
   },
   "outputs": [],
   "source": [
    "import numpy as np\n",
    "from numpy import genfromtxt"
   ]
  },
  {
   "cell_type": "code",
   "execution_count": 211,
   "metadata": {},
   "outputs": [
    {
     "name": "stdout",
     "output_type": "stream",
     "text": [
      "(314, 2)\n",
      "(314, 1)\n",
      "(2, 10)\n",
      "(10, 1)\n"
     ]
    }
   ],
   "source": [
    "w1 = genfromtxt('w1.csv', delimiter=',', dtype=float)\n",
    "b1 = genfromtxt('b1.csv', delimiter=',', dtype=float)\n",
    "#w2 = genfromtxt('w2.csv', delimiter=',', dtype=float)\n",
    "w2 = np.array([[0.0511],[0.1611],[0.0238],[-0.0267],[0.1089],[0.2381],[0.0784],[0.003],[0.1646],[-0.1779]])\n",
    "b2 = genfromtxt('b2.csv', delimiter=',', dtype=float)\n",
    "\n",
    "inputs = genfromtxt('cross_data.csv', delimiter=',', dtype=float)\n",
    "X = inputs[...,:2]\n",
    "Y = inputs[...,2:]\n",
    "\n",
    "print(X.shape)\n",
    "print(Y.shape)\n",
    "\n",
    "# transpose weight matrices\n",
    "w1 = w1.T\n",
    "#w2 = w2.T\n",
    "\n",
    "print(w1.shape)\n",
    "print(w2.shape)"
   ]
  },
  {
   "cell_type": "code",
   "execution_count": 235,
   "metadata": {},
   "outputs": [],
   "source": [
    "class MLP(object):\n",
    "    #\n",
    "    def __init__(self, w1, b1,w2,b2,inputLayerSize=2, outputLayerSize=1, hiddenLayerSize=10):\n",
    "        # define model meta-data\n",
    "        self.inputLayerSize = inputLayerSize\n",
    "        self.outputLayerSize = outputLayerSize\n",
    "        self.hiddenLayerSize = hiddenLayerSize\n",
    "        \n",
    "        # weights (parameters)\n",
    "        self.W1 = w1\n",
    "        self.W2 = w2\n",
    "        \n",
    "        # bias\n",
    "        self.B1 = b1\n",
    "        self.B2 = b2\n",
    "        \n",
    "    def predict(self, X):\n",
    "        # propogate inputs throug network and output\n",
    "        self.z2 = np.dot(X, self.W1)\n",
    "        self.a2 = self.sigmoid(self.z2)\n",
    "        self.z3 = np.dot(self.a2, self.W2)\n",
    "        yHat = self.sigmoid(self.z3)\n",
    "        return yHat\n",
    "    \n",
    "    def sigmoid(self, z):\n",
    "        return 1/(1+np.exp(-z)) \n",
    "\n",
    "    def sigmoidPrime(self,z):\n",
    "        # Gradient of sigmoid\n",
    "        return np.exp(-z)/((1+np.exp(-z))**2)\n",
    "    \n",
    "    def costFunction(self, X, y):\n",
    "        # Compute cost for given X,y use wieights already stored in class\n",
    "        self.yHat = self.predict(X)\n",
    "        J = 0.5 * sum((y-self.yHat)**2)\n",
    "        return J\n",
    "    \n",
    "    def costFunctionPrime(self, X, y):\n",
    "        # Compute derivtive with respect to W and W2 for a given X and y:\n",
    "        self.yHat = self.predict(X)\n",
    "        \n",
    "        delta3 = np.multiply(-(y-self.yHat), self.sigmoidPrime(self.z3))\n",
    "        dJdW2 = np.dot(self.a2.T, delta3)\n",
    "        \n",
    "        delta2 = np.dot(delta3, self.W2.T)*self.sigmoidPrime(self.z2)\n",
    "        dJdW1 = np.dot(X.T, delta2)\n",
    "        \n",
    "        return dJdW1, dJdW2\n",
    "    \n",
    "    def train(self, X, Y, it):\n",
    "        print(\"Predictions before training : \")\n",
    "        print(self.costFunction(X,Y))\n",
    "        print(\"=========================================================\")\n",
    "        \n",
    "        for i in range(it):\n",
    "            dJdW1, dJdW2 = self.costFunctionPrime(X,Y)\n",
    "            scalar = 3\n",
    "            self.W1 = self.W1 - scalar * dJdW1\n",
    "            self.W2 = self.W2 - scalar * dJdW2\n",
    "        print(\"=========================================================\")\n",
    "        print(\"Predictions after training : \")\n",
    "        print(self.costFunction(X,Y))"
   ]
  },
  {
   "cell_type": "code",
   "execution_count": 237,
   "metadata": {},
   "outputs": [],
   "source": [
    "m = MLP(w1,b1,w2,b2)"
   ]
  },
  {
   "cell_type": "code",
   "execution_count": 238,
   "metadata": {},
   "outputs": [
    {
     "name": "stdout",
     "output_type": "stream",
     "text": [
      "Predictions before training : \n",
      "[ 43.03129275]\n",
      "=========================================================\n",
      "=========================================================\n",
      "Predictions after training : \n",
      "[ 61.]\n"
     ]
    }
   ],
   "source": [
    "m.train(X,Y,10000)"
   ]
  },
  {
   "cell_type": "code",
   "execution_count": 221,
   "metadata": {},
   "outputs": [],
   "source": [
    "dJdW1, dJdW2 = m.costFunctionPrime(X,Y)"
   ]
  },
  {
   "cell_type": "code",
   "execution_count": 224,
   "metadata": {},
   "outputs": [],
   "source": [
    "scalar = 10\n",
    "m.W1 = m.W1 - scalar * dJdW1\n",
    "m.W2 = m.W2 - scalar * dJdW2\n",
    "cost2 = m.costFunction(X,Y)"
   ]
  },
  {
   "cell_type": "code",
   "execution_count": 225,
   "metadata": {},
   "outputs": [
    {
     "name": "stdout",
     "output_type": "stream",
     "text": [
      "[ 61.] [ 61.]\n"
     ]
    }
   ],
   "source": [
    "print(cost1, cost2)"
   ]
  },
  {
   "cell_type": "code",
   "execution_count": null,
   "metadata": {
    "collapsed": true
   },
   "outputs": [],
   "source": []
  }
 ],
 "metadata": {
  "kernelspec": {
   "display_name": "Python 3",
   "language": "python",
   "name": "python3"
  },
  "language_info": {
   "codemirror_mode": {
    "name": "ipython",
    "version": 3
   },
   "file_extension": ".py",
   "mimetype": "text/x-python",
   "name": "python",
   "nbconvert_exporter": "python",
   "pygments_lexer": "ipython3",
   "version": "3.6.2"
  }
 },
 "nbformat": 4,
 "nbformat_minor": 2
}
